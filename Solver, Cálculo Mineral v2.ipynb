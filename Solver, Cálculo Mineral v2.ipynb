{
 "cells": [
  {
   "cell_type": "markdown",
   "metadata": {},
   "source": [
    "# Cálculo de Mineral - Vazante\n",
    "## Mineralogia Modal\n",
    "##### Desarrollado por:\n",
    "* Jimmy Navarro\n",
    "* Fernando Villanova"
   ]
  },
  {
   "cell_type": "code",
   "execution_count": 1,
   "metadata": {},
   "outputs": [],
   "source": [
    "import pandas as pd\n",
    "import numpy as np\n",
    "from scipy import optimize"
   ]
  },
  {
   "cell_type": "code",
   "execution_count": 42,
   "metadata": {},
   "outputs": [
    {
     "data": {
      "text/html": [
       "<div>\n",
       "<style scoped>\n",
       "    .dataframe tbody tr th:only-of-type {\n",
       "        vertical-align: middle;\n",
       "    }\n",
       "\n",
       "    .dataframe tbody tr th {\n",
       "        vertical-align: top;\n",
       "    }\n",
       "\n",
       "    .dataframe thead th {\n",
       "        text-align: right;\n",
       "    }\n",
       "</style>\n",
       "<table border=\"1\" class=\"dataframe\">\n",
       "  <thead>\n",
       "    <tr style=\"text-align: right;\">\n",
       "      <th></th>\n",
       "      <th>SAMPLEID</th>\n",
       "      <th>FROM</th>\n",
       "      <th>TO</th>\n",
       "      <th>Al %</th>\n",
       "      <th>Ba %</th>\n",
       "      <th>Ca %</th>\n",
       "      <th>FE %</th>\n",
       "      <th>K %</th>\n",
       "      <th>Mg %</th>\n",
       "      <th>Mn %</th>\n",
       "      <th>Na %</th>\n",
       "      <th>PB %</th>\n",
       "      <th>S %</th>\n",
       "      <th>ZN %</th>\n",
       "      <th>Others</th>\n",
       "    </tr>\n",
       "  </thead>\n",
       "  <tbody>\n",
       "    <tr>\n",
       "      <th>0</th>\n",
       "      <td>BRMVZDC0044119</td>\n",
       "      <td>10.0</td>\n",
       "      <td>11.5</td>\n",
       "      <td>7.33</td>\n",
       "      <td>0.105</td>\n",
       "      <td>3.76</td>\n",
       "      <td>8.48</td>\n",
       "      <td>0.91</td>\n",
       "      <td>5.25</td>\n",
       "      <td>0.0798</td>\n",
       "      <td>2.16</td>\n",
       "      <td>0.0084</td>\n",
       "      <td>0.02</td>\n",
       "      <td>0.0359</td>\n",
       "      <td>71.8609</td>\n",
       "    </tr>\n",
       "    <tr>\n",
       "      <th>1</th>\n",
       "      <td>BRMVZDC0044121</td>\n",
       "      <td>11.5</td>\n",
       "      <td>13.0</td>\n",
       "      <td>7.14</td>\n",
       "      <td>0.036</td>\n",
       "      <td>1.08</td>\n",
       "      <td>7.44</td>\n",
       "      <td>0.50</td>\n",
       "      <td>7.75</td>\n",
       "      <td>0.0675</td>\n",
       "      <td>2.15</td>\n",
       "      <td>0.2150</td>\n",
       "      <td>0.05</td>\n",
       "      <td>1.1900</td>\n",
       "      <td>72.3815</td>\n",
       "    </tr>\n",
       "    <tr>\n",
       "      <th>2</th>\n",
       "      <td>BRMVZDC0044126</td>\n",
       "      <td>16.7</td>\n",
       "      <td>17.6</td>\n",
       "      <td>6.62</td>\n",
       "      <td>0.048</td>\n",
       "      <td>1.44</td>\n",
       "      <td>7.00</td>\n",
       "      <td>0.72</td>\n",
       "      <td>6.54</td>\n",
       "      <td>0.0215</td>\n",
       "      <td>2.21</td>\n",
       "      <td>0.2920</td>\n",
       "      <td>0.05</td>\n",
       "      <td>0.8090</td>\n",
       "      <td>74.2495</td>\n",
       "    </tr>\n",
       "    <tr>\n",
       "      <th>3</th>\n",
       "      <td>BRMVZDC0044021</td>\n",
       "      <td>8.5</td>\n",
       "      <td>10.0</td>\n",
       "      <td>8.02</td>\n",
       "      <td>0.074</td>\n",
       "      <td>4.89</td>\n",
       "      <td>7.24</td>\n",
       "      <td>0.92</td>\n",
       "      <td>4.75</td>\n",
       "      <td>0.1510</td>\n",
       "      <td>2.16</td>\n",
       "      <td>0.1060</td>\n",
       "      <td>0.03</td>\n",
       "      <td>0.0347</td>\n",
       "      <td>71.6243</td>\n",
       "    </tr>\n",
       "    <tr>\n",
       "      <th>4</th>\n",
       "      <td>BRMVZDC0044030</td>\n",
       "      <td>22.2</td>\n",
       "      <td>23.7</td>\n",
       "      <td>7.65</td>\n",
       "      <td>0.077</td>\n",
       "      <td>4.19</td>\n",
       "      <td>9.32</td>\n",
       "      <td>0.94</td>\n",
       "      <td>4.53</td>\n",
       "      <td>0.0832</td>\n",
       "      <td>2.16</td>\n",
       "      <td>0.1790</td>\n",
       "      <td>0.17</td>\n",
       "      <td>1.4900</td>\n",
       "      <td>69.2108</td>\n",
       "    </tr>\n",
       "  </tbody>\n",
       "</table>\n",
       "</div>"
      ],
      "text/plain": [
       "         SAMPLEID  FROM    TO  Al %   Ba %  Ca %  FE %   K %  Mg %    Mn %  \\\n",
       "0  BRMVZDC0044119  10.0  11.5  7.33  0.105  3.76  8.48  0.91  5.25  0.0798   \n",
       "1  BRMVZDC0044121  11.5  13.0  7.14  0.036  1.08  7.44  0.50  7.75  0.0675   \n",
       "2  BRMVZDC0044126  16.7  17.6  6.62  0.048  1.44  7.00  0.72  6.54  0.0215   \n",
       "3  BRMVZDC0044021   8.5  10.0  8.02  0.074  4.89  7.24  0.92  4.75  0.1510   \n",
       "4  BRMVZDC0044030  22.2  23.7  7.65  0.077  4.19  9.32  0.94  4.53  0.0832   \n",
       "\n",
       "   Na %    PB %   S %    ZN %   Others  \n",
       "0  2.16  0.0084  0.02  0.0359  71.8609  \n",
       "1  2.15  0.2150  0.05  1.1900  72.3815  \n",
       "2  2.21  0.2920  0.05  0.8090  74.2495  \n",
       "3  2.16  0.1060  0.03  0.0347  71.6243  \n",
       "4  2.16  0.1790  0.17  1.4900  69.2108  "
      ]
     },
     "execution_count": 42,
     "metadata": {},
     "output_type": "execute_result"
    }
   ],
   "source": [
    "# Importación de datos\n",
    "data=pd.read_csv(\"Prueba de biotita, plag,input.csv\", sep=\";\")\n",
    "data.head()"
   ]
  },
  {
   "cell_type": "markdown",
   "metadata": {},
   "source": [
    "### Funciones de maximización"
   ]
  },
  {
   "cell_type": "code",
   "execution_count": 43,
   "metadata": {},
   "outputs": [],
   "source": [
    "# Property Value y funciones objetivo\n",
    "objetivo=np.array([3,7,9,10,7,9,5,8,8,6,9,5,7,9,2,3,5,8,8])                             # Property values\n",
    "Fun1=np.array([[0,29.4,0,0,0,0,0.1,8.3,0,0,0,0,0,6.2,1.5,0,6.22,9.96,14.39],            # Función de Al\n",
    "               [0,0,0,0,0,0,0,0,0,0,0,0,0,0,0,58.9,0,0,0],                              # Función de Ba\n",
    "               [0,0,0,0,0,0,0.2,0,20.7,40,0,0,0,0,23,0,0,7.4,17.1],                     # Función de Ca\n",
    "               [37.8,0,0,0.3,2.1,0,0.6,25.9,2,0,69.9,46.5,0,6.4,1.5,0,6.44,0,5.96],     # Función de Fe\n",
    "               [0,0,0,0,0,0,0,0,0,0,0,0,0,9,0,0,9.02,0,0],                              # Función de K\n",
    "               [0,0,0,0,0,0,0.3,11.3,12.2,0,0,0,0,14,0,0,14.02,0,0],                    # Función de Mg\n",
    "               [18.6,0,0,0,0,0,0,0,0,0,0,0,0,0,0,0,0,0,0],                              # Función de Mn\n",
    "               [0,0,0,0,0,0,0,0,0,0,0,0,0,0,0,0,0,4.25,0],                              # Función de Na\n",
    "               [0,0,0,0,0,86.6,46.6,0,0,0,0,0,0,0,0,0,0,0,0],                           # Función de Pb\n",
    "               [0,0,32.9,0,0,13.4,0,0,0,0,0,53.5,0,0,0,0,0,0,0],                        # Función de S\n",
    "               [16.6,35.7,67.1,58.7,57.7,0,9.2,0,0,0,0,0,0,0,0,0,0,0,0],                # Función de Zn\n",
    "               [27.04,34.9,0,41.01,40.18,0,43.13,54.47,65.08,59.96,30.05,0,95.75,64.31,74,41.15,64.3,78.39,62.55]])*0.01    # Función de Others"
   ]
  },
  {
   "cell_type": "code",
   "execution_count": 44,
   "metadata": {},
   "outputs": [
    {
     "data": {
      "text/plain": [
       "array([7.33000e+00, 1.05000e-01, 3.76000e+00, 8.48000e+00, 9.10000e-01,\n",
       "       5.25000e+00, 7.98000e-02, 2.16000e+00, 8.40000e-03, 2.00000e-02,\n",
       "       3.59000e-02, 7.18609e+01])"
      ]
     },
     "execution_count": 44,
     "metadata": {},
     "output_type": "execute_result"
    }
   ],
   "source": [
    "#Conversión de los datos(DataFrame) en un formato tabular(Array)\n",
    "data_solver=np.array(data.iloc[:,3:])\n",
    "data_solver[0]           # Visualización de la primera fila"
   ]
  },
  {
   "cell_type": "markdown",
   "metadata": {},
   "source": [
    "### Bucle para realizar la optimización(Solver) de todos los datos importados\n",
    "#### Usaremos el algoritmo de scipy que maximiza los resultados, la misma metodologia de Solver(excel)"
   ]
  },
  {
   "cell_type": "code",
   "execution_count": 45,
   "metadata": {},
   "outputs": [],
   "source": [
    "#Utilización de la biblioteca optimize de scipy para maximizar las funciones\n",
    "calculo=[]\n",
    "for x in range(0,len(data_solver)):\n",
    "    optim=optimize.linprog(-objetivo,Fun1,data_solver[x])\n",
    "    calculo.append(optim[\"x\"])"
   ]
  },
  {
   "cell_type": "code",
   "execution_count": 46,
   "metadata": {},
   "outputs": [],
   "source": [
    "Minerales=[\"Franklinite\",\"Gahnite\",\"Sphalerite\",\"Willemite\",\"Fe Willemite\",\"Galena\",\"Descloizite\",\"Chlorite\",\"Dolomite\",\"Calcite\",\"Hematite\",\"Pyrite\",\"Quartz\",\"Micas\",\"Diopside\",\"Baritina\", \"Biotita\",\"Plagioclasa\",\"Epidota\"]\n",
    "Index=data[[\"SAMPLEID\",\"FROM\",\"TO\"]]"
   ]
  },
  {
   "cell_type": "markdown",
   "metadata": {},
   "source": [
    "##### Exportamos los resultados en un excel"
   ]
  },
  {
   "cell_type": "code",
   "execution_count": 47,
   "metadata": {},
   "outputs": [],
   "source": [
    "Resultados=pd.concat([Index, pd.DataFrame(calculo, columns=Minerales)], axis=1)"
   ]
  },
  {
   "cell_type": "code",
   "execution_count": 48,
   "metadata": {},
   "outputs": [],
   "source": [
    "Resultados.to_excel(\"RESULTADOS_epidota,biotita,plag.xlsx\", index=False)"
   ]
  },
  {
   "cell_type": "code",
   "execution_count": 31,
   "metadata": {},
   "outputs": [],
   "source": [
    "Resultados.to_csv(\"RESULTADOS_MINERALOGIA.csv\", index=False)"
   ]
  },
  {
   "cell_type": "code",
   "execution_count": null,
   "metadata": {},
   "outputs": [],
   "source": []
  },
  {
   "cell_type": "code",
   "execution_count": null,
   "metadata": {},
   "outputs": [],
   "source": []
  }
 ],
 "metadata": {
  "kernelspec": {
   "display_name": "Python 3",
   "language": "python",
   "name": "python3"
  },
  "language_info": {
   "codemirror_mode": {
    "name": "ipython",
    "version": 3
   },
   "file_extension": ".py",
   "mimetype": "text/x-python",
   "name": "python",
   "nbconvert_exporter": "python",
   "pygments_lexer": "ipython3",
   "version": "3.8.5"
  }
 },
 "nbformat": 4,
 "nbformat_minor": 4
}
